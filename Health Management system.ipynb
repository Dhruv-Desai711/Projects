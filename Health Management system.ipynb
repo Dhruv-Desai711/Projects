{
 "cells": [
  {
   "cell_type": "code",
   "execution_count": 3,
   "id": "distant-alexander",
   "metadata": {},
   "outputs": [
    {
     "name": "stderr",
     "output_type": "stream",
     "text": [
      "<>:20: SyntaxWarning: \"is\" with a literal. Did you mean \"==\"?\n",
      "<>:27: SyntaxWarning: \"is not\" with a literal. Did you mean \"!=\"?\n",
      "<>:34: SyntaxWarning: \"is\" with a literal. Did you mean \"==\"?\n",
      "<>:20: SyntaxWarning: \"is\" with a literal. Did you mean \"==\"?\n",
      "<>:27: SyntaxWarning: \"is not\" with a literal. Did you mean \"!=\"?\n",
      "<>:34: SyntaxWarning: \"is\" with a literal. Did you mean \"==\"?\n",
      "<ipython-input-3-bfda3b706533>:20: SyntaxWarning: \"is\" with a literal. Did you mean \"==\"?\n",
      "  if op is 1:\n",
      "<ipython-input-3-bfda3b706533>:27: SyntaxWarning: \"is not\" with a literal. Did you mean \"!=\"?\n",
      "  while (k is not \"n\"):\n",
      "<ipython-input-3-bfda3b706533>:34: SyntaxWarning: \"is\" with a literal. Did you mean \"==\"?\n",
      "  elif op is 2:\n"
     ]
    },
    {
     "name": "stdout",
     "output_type": "stream",
     "text": [
      "Select Client Name:\n",
      "Press 1 for Harry \n",
      "Press 2 for Rohan \n",
      "Press 3 for Hammad \n",
      "1\n",
      "Selected Client: Harry \n",
      "Press 1 for Log\n",
      "Press 2 for Retreive\n",
      "2\n",
      "Press 1 to retreive Exercise \n",
      "Press 2 to retreive Diet \n",
      "1\n",
      "Harry - Exercise Report: \n",
      "[2021-08-02 19:32:17.664130]:Desk Seating\n",
      "[2021-08-02 19:32:24.889948]:Dumble\n"
     ]
    }
   ],
   "source": [
    "client_list={1:\"Harry\",2:\"Rohan\",3:\"Hammad\"}\n",
    "log_list={1:\"Exercise\",2:\"Diet\"}\n",
    "\n",
    "def getdate():\n",
    "    import datetime\n",
    "    return datetime.datetime.now()\n",
    "\n",
    "try:\n",
    "    print(\"Select Client Name:\")\n",
    "    for key,value in client_list.items():\n",
    "        print(\"Press\",key,\"for\",value,\"\\n\",end=\"\")\n",
    "    client_name=int(input())\n",
    "\n",
    "    print(\"Selected Client:\",client_list[client_name],\"\\n\",end=\"\")\n",
    "\n",
    "    print(\"Press 1 for Log\")\n",
    "    print(\"Press 2 for Retreive\")\n",
    "    op=int(input())\n",
    "\n",
    "    if op is 1:\n",
    "        for key,value in log_list.items():\n",
    "            print(\"Press\",key,\"to log\",value,\"\\n\",end=\"\")\n",
    "        log_name=int(input())\n",
    "        print(\"Selected Job:\",log_list[log_name])\n",
    "        f = open(client_list[client_name]+\"_\"+log_list[log_name]+\".txt\",\"a\")\n",
    "        k=\"y\"\n",
    "        while (k is not \"n\"):\n",
    "            print(\"Enter\",log_list[log_name],\"\\n\",end=\"\")\n",
    "            mytext=input()\n",
    "            f.write(\"[\"+str(getdate())+\"]:\"+mytext+\"\\n\")\n",
    "            k=input('Add More? y/n:')\n",
    "            continue\n",
    "        f.close()\n",
    "    elif op is 2:\n",
    "        for key,value in log_list.items():\n",
    "            print(\"Press\",key,\"to retreive\",value,\"\\n\",end=\"\")\n",
    "        log_name=int(input())\n",
    "        print(client_list[client_name],\"-\",log_list[log_name],\"Report:\",\"\\n\",end=\"\")\n",
    "        f=open(client_list[client_name]+\"_\"+log_list[log_name]+\".txt\",\"rt\")\n",
    "        contents = f.readlines()\n",
    "        for line in contents:\n",
    "            print(line,end=\"\")\n",
    "        f.close()\n",
    "    else:\n",
    "        print(\"Invalid Input\")\n",
    "except Exception as e:\n",
    "    print(\"Wrong input\")"
   ]
  },
  {
   "cell_type": "code",
   "execution_count": null,
   "id": "civic-bahrain",
   "metadata": {},
   "outputs": [],
   "source": []
  }
 ],
 "metadata": {
  "kernelspec": {
   "display_name": "Python 3",
   "language": "python",
   "name": "python3"
  },
  "language_info": {
   "codemirror_mode": {
    "name": "ipython",
    "version": 3
   },
   "file_extension": ".py",
   "mimetype": "text/x-python",
   "name": "python",
   "nbconvert_exporter": "python",
   "pygments_lexer": "ipython3",
   "version": "3.9.1"
  }
 },
 "nbformat": 4,
 "nbformat_minor": 5
}
